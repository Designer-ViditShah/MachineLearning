{
 "cells": [
  {
   "cell_type": "markdown",
   "metadata": {},
   "source": [
    "                Problem - 1.1 :\n",
    "  \n",
    "\n",
    "Write a Python Program(with class concepts) to find the area of the triangle using the below formula.\n",
    "   \n",
    "    area = (s*(s-a)*(s-b)*(s-c)) ** 0.5\n",
    "       \n",
    "\n",
    "Function to take the length of the sides of triangle from user should be defined in the parent\n",
    "class and function to calculate the area should be defined in subclass."
   ]
  },
  {
   "cell_type": "code",
   "execution_count": 23,
   "metadata": {},
   "outputs": [
    {
     "name": "stdout",
     "output_type": "stream",
     "text": [
      "A = 3\n",
      "B = 4\n",
      "C = 5\n",
      "Area of triangle is :  6.0\n",
      "A = 6\n",
      "B = 8\n",
      "C = 10\n",
      "Area of triangle is :  24.0\n",
      "A = 2\n",
      "B = 24\n",
      "C = 10\n",
      "Area of triangle is :  (7.199423455304862e-15+117.57550765359255j)\n"
     ]
    }
   ],
   "source": [
    "class Area:\n",
    "    def __init__(self,a,b,c):\n",
    "        self.a = int(a)\n",
    "        self.b = int(b)\n",
    "        self.c = int(c)\n",
    "class Triangle(Area):\n",
    "    def print_length(self):\n",
    "        print(self.a,self.b,self.c)\n",
    "    def area_of_triangle(self):\n",
    "        s = (self.a+self.b+self.c)/2\n",
    "        print(\"Area of triangle is : \",(s*(s-self.a)*(s-self.b)*(s-self.c))**0.5)\n",
    "for i in range(0,3):\n",
    "    x=Triangle(input(\"A = \"),input(\"B = \"),input(\"C = \"))\n",
    "    ans = x.area_of_triangle()\n",
    "    ans"
   ]
  },
  {
   "cell_type": "markdown",
   "metadata": {},
   "source": [
    "                Problem - 1.2 :\n",
    "Write a function filter_long_words() that takes a list of words and an integer n \n",
    "  and returns the list of words that are longer than n."
   ]
  },
  {
   "cell_type": "code",
   "execution_count": 3,
   "metadata": {},
   "outputs": [
    {
     "name": "stdout",
     "output_type": "stream",
     "text": [
      "\t \tProvide one sentence : \n",
      " \n",
      "Function to take the length of the sides of triangle from user should be defined in the parent class and function to calculate the area should be defined in subclass.\n",
      "\n",
      " \t \tYou provided following list :\n",
      " \n",
      " ['Function', 'to', 'take', 'the', 'length', 'of', 'the', 'sides', 'of', 'triangle', 'from', 'user', 'should', 'be', 'defined', 'in', 'the', 'parent', 'class', 'and', 'function', 'to', 'calculate', 'the', 'area', 'should', 'be', 'defined', 'in', 'subclass.']\n",
      "\n",
      " \t \tProvide integer value for n :5\n",
      "['Function', 'length', 'triangle', 'should', 'defined', 'parent', 'function', 'calculate', 'should', 'defined', 'subclass.']\n"
     ]
    }
   ],
   "source": [
    "def filter_long_words(list_of_words,integer_value_n):\n",
    "    new_list_of_words = []\n",
    "    for i in list_of_words:\n",
    "        if len(i) > integer_value_n:\n",
    "            new_list_of_words.append(i)\n",
    "    return new_list_of_words\n",
    "words = input(\"\\t \\tProvide one sentence : \\n \\n\").split(\" \")\n",
    "print(\"\\n \\t \\tYou provided following list :\\n \\n\",words)\n",
    "n = int(input(\"\\n \\t \\tProvide integer value for n :\"))\n",
    "l = filter_long_words(words,n)\n",
    "print(l)"
   ]
  },
  {
   "cell_type": "markdown",
   "metadata": {},
   "source": [
    "                Problem - 2.1 :\n",
    "  \n",
    "Write a Python program using function concept that maps list of words into a list of integers representing the lengths of the corresponding words.\n",
    "  \n",
    "Hint: If a list [ ab,cde,erty] is passed on to the python function output should come as [2,3,4]\n",
    "  \n",
    "Here 2,3 and 4 are the lengths of the words in the list."
   ]
  },
  {
   "cell_type": "code",
   "execution_count": 6,
   "metadata": {},
   "outputs": [
    {
     "name": "stdout",
     "output_type": "stream",
     "text": [
      "\t \tProvide one sentence : \n",
      " \n",
      "Write a Python program using function concept that maps list of words into a list of integers representing the lengths of the corresponding words.\n",
      "\n",
      " \t \tYou provided following list :\n",
      " \n",
      " ['Write', 'a', 'Python', 'program', 'using', 'function', 'concept', 'that', 'maps', 'list', 'of', 'words', 'into', 'a', 'list', 'of', 'integers', 'representing', 'the', 'lengths', 'of', 'the', 'corresponding', 'words.']\n",
      "\n",
      " \t \tYour output is : \n",
      " [5, 1, 6, 7, 5, 8, 7, 4, 4, 4, 2, 5, 4, 1, 4, 2, 8, 12, 3, 7, 2, 3, 13, 6]\n"
     ]
    }
   ],
   "source": [
    "def func_map_list_of_words_to_int(list_of_words):\n",
    "    new_list = []\n",
    "    for i in list_of_words:\n",
    "        new_list.append(len(i))\n",
    "    return new_list\n",
    "words = input(\"\\t \\tProvide one sentence : \\n \\n\").split(\" \")\n",
    "print(\"\\n \\t \\tYou provided following list :\\n \\n\",words)\n",
    "l = func_map_list_of_words_to_int(words)\n",
    "print(\"\\n \\t \\tYour output is : \\n\",l)"
   ]
  },
  {
   "cell_type": "markdown",
   "metadata": {},
   "source": [
    "                    Problem - 2.2 :\n",
    "\n",
    "Write a Python function which takes a character (i.e. a string of length 1) and returns    \n",
    "      True if it is a vowel, \n",
    "      False otherwise."
   ]
  },
  {
   "cell_type": "code",
   "execution_count": 11,
   "metadata": {},
   "outputs": [
    {
     "name": "stdout",
     "output_type": "stream",
     "text": [
      "Provide 1 character : a\n",
      "a  is a vowel\n",
      "Provide 1 character : A\n",
      "A  is a vowel\n",
      "Provide 1 character : B\n",
      "B  is not a vowel\n",
      "Provide 1 character : E\n",
      "E  is a vowel\n",
      "Provide 1 character : u\n",
      "u  is a vowel\n",
      "Provide 1 character : z\n",
      "z  is not a vowel\n"
     ]
    }
   ],
   "source": [
    "def is_vowel(character_of_length_1):\n",
    "    if character_of_length_1.lower() in ['a','e','i','o','u']:\n",
    "        return True\n",
    "    else:\n",
    "        return False\n",
    "for i in range(0,6):\n",
    "    character = input(\"Provide 1 character : \")\n",
    "    answer = is_vowel(character[0])\n",
    "    if answer==True:\n",
    "        print(character,\" is a vowel\")\n",
    "    else:\n",
    "        print(character,\" is not a vowel\")"
   ]
  },
  {
   "cell_type": "code",
   "execution_count": null,
   "metadata": {},
   "outputs": [],
   "source": []
  },
  {
   "cell_type": "code",
   "execution_count": null,
   "metadata": {},
   "outputs": [],
   "source": []
  }
 ],
 "metadata": {
  "kernelspec": {
   "display_name": "Python 3",
   "language": "python",
   "name": "python3"
  },
  "language_info": {
   "codemirror_mode": {
    "name": "ipython",
    "version": 3
   },
   "file_extension": ".py",
   "mimetype": "text/x-python",
   "name": "python",
   "nbconvert_exporter": "python",
   "pygments_lexer": "ipython3",
   "version": "3.7.4"
  }
 },
 "nbformat": 4,
 "nbformat_minor": 2
}
